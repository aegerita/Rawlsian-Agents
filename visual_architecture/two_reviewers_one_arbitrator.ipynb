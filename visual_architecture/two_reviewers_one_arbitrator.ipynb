{
 "cells": [
  {
   "cell_type": "markdown",
   "metadata": {},
   "source": [
    "# Two reviewers and one arbitrator\n",
    "\n",
    "**Description:** Two reviewers receive a list of factual claims disclosing relevant information to draft a prenuptial agreement. These claims are free of subjectivity and opinions and refer to the initial conditions of the negotiation. \n",
    "Each one of the reviewers takes the side of one of the parties, and generates a lists of risks that are relevant to generate the final draft. Both reviewers pass their recommendations to an arbitrator, through aggregation and sorting of the claims, so the arbitrator cannot know where the recommendations came from. The arbitrator addresses the concerns and passes a document to a drafter, who creates the final document. "
   ]
  },
  {
   "cell_type": "markdown",
   "metadata": {},
   "source": [
    "## Visual Overview"
   ]
  },
  {
   "cell_type": "code",
   "execution_count": null,
   "metadata": {},
   "outputs": [],
   "source": [
    "from IPython.display import display, SVG\n",
    "display(SVG(filename='two_reviewers_one_arbitrator.svg'))"
   ]
  },
  {
   "cell_type": "markdown",
   "metadata": {},
   "source": [
    "## Supporting prompts"
   ]
  },
  {
   "cell_type": "markdown",
   "metadata": {},
   "source": [
    "### Reviewer"
   ]
  },
  {
   "cell_type": "code",
   "execution_count": null,
   "metadata": {},
   "outputs": [],
   "source": [
    "from rawlsian_agents.agents.reviewer import Reviewer\n",
    "import warnings\n",
    "warnings.simplefilter('ignore')\n",
    "\n",
    "reviewer = Reviewer()\n",
    "print(reviewer.prompt.template)"
   ]
  },
  {
   "cell_type": "markdown",
   "metadata": {},
   "source": [
    "### Arbitrator"
   ]
  },
  {
   "cell_type": "code",
   "execution_count": null,
   "metadata": {},
   "outputs": [],
   "source": [
    "from rawlsian_agents.agents.arbitrator import Arbitrator\n",
    "import warnings\n",
    "warnings.simplefilter('ignore')\n",
    "\n",
    "arbitrator = Arbitrator()\n",
    "print(arbitrator.prompt.template)"
   ]
  },
  {
   "cell_type": "markdown",
   "metadata": {},
   "source": [
    "### Drafter"
   ]
  },
  {
   "cell_type": "code",
   "execution_count": null,
   "metadata": {},
   "outputs": [],
   "source": [
    "from rawlsian_agents.agents.drafter import Drafter\n",
    "import warnings\n",
    "warnings.simplefilter('ignore')\n",
    "\n",
    "drafter = Drafter()\n",
    "print(drafter.prompt.template)"
   ]
  }
 ],
 "metadata": {
  "kernelspec": {
   "display_name": "Rawlsian-Agents",
   "language": "python",
   "name": "python3"
  },
  "language_info": {
   "codemirror_mode": {
    "name": "ipython",
    "version": 3
   },
   "file_extension": ".py",
   "mimetype": "text/x-python",
   "name": "python",
   "nbconvert_exporter": "python",
   "pygments_lexer": "ipython3",
   "version": "3.12.0"
  }
 },
 "nbformat": 4,
 "nbformat_minor": 2
}
